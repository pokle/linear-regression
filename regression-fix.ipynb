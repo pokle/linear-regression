{
 "cells": [
  {
   "cell_type": "markdown",
   "metadata": {},
   "source": [
    "# Linear regression\n",
    "\n",
    "## References\n",
    "1. [Andrew NG's Machine learning course](https://www.coursera.org/learn/machine-learning)\n",
    "2. [Gradient descent derivation](http://mccormickml.com/2014/03/04/gradient-descent-derivation/)"
   ]
  },
  {
   "cell_type": "markdown",
   "metadata": {},
   "source": []
  },
  {
   "cell_type": "code",
   "execution_count": 1,
   "metadata": {},
   "outputs": [],
   "source": [
    "import math\n",
    "\n",
    "\n",
    "def cost(labels, features, weights):\n",
    "    num_samples = len(labels)  # Or features\n",
    "    (w0, w1) = weights\n",
    "\n",
    "    # Work out the distance between the model (the line)\n",
    "    # and the all the (label, feature) points\n",
    "    sum_costs = 0.0\n",
    "    for i in range(0, num_samples):\n",
    "        actual_y = labels[i]\n",
    "        x = features[i]\n",
    "        predicted_y = (w0 + w1 * x)\n",
    "        sum_costs += (actual_y - predicted_y)**2\n",
    "\n",
    "    return 0.5 * (sum_costs/num_samples)\n",
    "\n",
    "\n",
    "def cost_ddx(labels, features, weights, xexp):\n",
    "    \"\"\"\n",
    "    Differential of the cost function. This takes an extra argument xexp,\n",
    "    that is used to select whether we're differentiating wrt w0 or w1.\n",
    "    xexp = 0 means wrt w0\n",
    "    xexp = 1 means wrt w1\n",
    "    \"\"\"\n",
    "    num_samples = len(labels)  # Or features\n",
    "    (w0, w1) = weights\n",
    "\n",
    "    # Work out the distance between the model (the line)\n",
    "    # and the all the (label, feature) points\n",
    "    sum_costs = 0.0\n",
    "    for i in range(0, num_samples):\n",
    "        actual_y = labels[i]\n",
    "        x = features[i]\n",
    "        predicted_y = (w0 + w1 * x)\n",
    "        sum_costs += (predicted_y-actual_y)*(x**xexp)\n",
    "\n",
    "    return 0.5 * (sum_costs/num_samples)\n",
    "\n",
    "\n",
    "def train(labels, features, learning_rate=0.001, batches=1, weights=(0, 1)):\n",
    "    \"Attempts to minimise cost(weights)\"\n",
    "\n",
    "    (w0, w1) = weights\n",
    "\n",
    "    for _ in range(0, batches):\n",
    "        new_w0 = w0 - learning_rate * cost_ddx(labels, features, (w0, w1), 0)\n",
    "        new_w1 = w1 - learning_rate * cost_ddx(labels, features, (w0, w1), 1)\n",
    "        (w0, w1) = (new_w0, new_w1)\n",
    "\n",
    "    # Evaluation\n",
    "    ecost = cost(labels, features, (w0, w1))\n",
    "    print(f'cost={ecost}, weights={(w0,w1)}')\n",
    "\n",
    "    return (w0, w1)"
   ]
  },
  {
   "cell_type": "markdown",
   "metadata": {},
   "source": [
    "### Generate some random data and train on it"
   ]
  },
  {
   "cell_type": "code",
   "execution_count": 2,
   "metadata": {},
   "outputs": [
    {
     "name": "stdout",
     "output_type": "stream",
     "text": [
      "random data params 67 96.75978941075934\n",
      "cost=1897.1270656769016, weights=(0.7920482176028657, 97.2511749209914)\n"
     ]
    }
   ],
   "source": [
    "import random\n",
    "\n",
    "def model(weights):\n",
    "    \"A line\"\n",
    "    (w0, w1) = weights\n",
    "    def predict(x):\n",
    "        return w0 + w1*x\n",
    "    return predict\n",
    "\n",
    "def make_random_data():\n",
    "    limit = 200\n",
    "    ymax = 100\n",
    "    scatter = 100\n",
    "    randw0 = random.randint(0,ymax)\n",
    "    randw1 = random.uniform(-ymax,ymax)\n",
    "    print(\"random data params\", randw0, randw1)\n",
    "    predict = model((randw0, randw1))\n",
    "    labels = [ random.uniform(predict(i)-scatter, predict(i)+scatter) for i in range(1,limit)]\n",
    "    feats  = range(1,limit)\n",
    "    return (labels, feats)\n",
    "\n",
    "(labels, feats) = make_random_data()\n",
    "weights = train(labels, feats, learning_rate=0.0001, batches=100, weights=(0,0))"
   ]
  },
  {
   "cell_type": "markdown",
   "metadata": {},
   "source": [
    "### Plot training data & prediction"
   ]
  },
  {
   "cell_type": "code",
   "execution_count": 4,
   "metadata": {},
   "outputs": [
    {
     "data": {
      "text/plain": [
       "<matplotlib.legend.Legend at 0x7f4e60dc9da0>"
      ]
     },
     "execution_count": 4,
     "metadata": {},
     "output_type": "execute_result"
    },
    {
     "data": {
      "image/png": "[encoded data removed]",
      "text/plain": [
       "<Figure size 432x288 with 1 Axes>"
      ]
     },
     "metadata": {},
     "output_type": "display_data"
    }
   ],
   "source": [
    "import matplotlib.pyplot as plt\n",
    "from IPython import display\n",
    "\n",
    "# Splatter plot the inputs\n",
    "plt.scatter(feats, labels, color='lightpink', label='random data loosely like a line')\n",
    "\n",
    "# Draw a line from the first feature prediction to the last feature prediction\n",
    "predict = model(weights)\n",
    "plt.title('Linear regression', color='black')\n",
    "plt.plot([min(feats), max(feats)], [predict(min(feats)), predict(max(feats))], color='black', label='prediction')\n",
    "plt.legend()"
   ]
  },
  {
   "cell_type": "code",
   "execution_count": null,
   "metadata": {},
   "outputs": [],
   "source": []
  }
 ],
 "metadata": {
  "kernelspec": {
   "display_name": "Python 3",
   "language": "python",
   "name": "python3"
  },
  "language_info": {
   "codemirror_mode": {
    "name": "ipython",
    "version": 3
   },
   "file_extension": ".py",
   "mimetype": "text/x-python",
   "name": "python",
   "nbconvert_exporter": "python",
   "pygments_lexer": "ipython3",
   "version": "3.6.5"
  }
 },
 "nbformat": 4,
 "nbformat_minor": 2
}
